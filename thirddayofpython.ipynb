{
 "cells": [
  {
   "cell_type": "code",
   "execution_count": 1,
   "id": "303b559b-31ef-4e6d-b24a-51683713d706",
   "metadata": {},
   "outputs": [
    {
     "name": "stdout",
     "output_type": "stream",
     "text": [
      "[20, 35.1]\n"
     ]
    }
   ],
   "source": [
    "y = [\"jude\", \"thelma\", \"true\", \"yes\", 20, 35.1]\n",
    "strng = []\n",
    "numbers = []\n",
    "booleans = []\n",
    "for i in y:\n",
    "    if type(i) == str:\n",
    "        strng.append(i)\n",
    "    elif type(i) == bool:\n",
    "        booleans.append(i)\n",
    "    else:\n",
    "        numbers.append(i)\n",
    "print(numbers)"
   ]
  },
  {
   "cell_type": "code",
   "execution_count": 3,
   "id": "3c6e0dec-c477-4c68-8ae2-73f3c9422a49",
   "metadata": {},
   "outputs": [
    {
     "name": "stdout",
     "output_type": "stream",
     "text": [
      "[1.0, 1.7320508075688772, 2.23606797749979, 2.6457513110645907, 3.0, 3.3166247903554, 3.605551275463989, 3.872983346207417, 4.123105625617661, 4.358898943540674, 4.58257569495584, 4.795831523312719, 5.0, 5.196152422706632, 5.385164807134504, 5.5677643628300215, 5.744562646538029, 5.916079783099616, 6.082762530298219, 6.244997998398398, 6.4031242374328485, 6.557438524302, 6.708203932499369, 6.855654600401044, 7.0]\n"
     ]
    }
   ],
   "source": [
    "vals = []\n",
    "for i in range(1, 50+1):\n",
    "    if i%2 != 0:\n",
    "        a = i**(1/2)\n",
    "        vals.append(a)\n",
    "print(vals)"
   ]
  },
  {
   "cell_type": "code",
   "execution_count": 4,
   "id": "4a3b5040-37ef-4863-9250-4440e27c69d8",
   "metadata": {},
   "outputs": [
    {
     "name": "stdout",
     "output_type": "stream",
     "text": [
      "[1.0, 1.7320508075688772, 2.23606797749979, 2.6457513110645907, 3.0, 3.3166247903554, 3.605551275463989, 3.872983346207417, 4.123105625617661, 4.358898943540674, 4.58257569495584, 4.795831523312719, 5.0, 5.196152422706632, 5.385164807134504, 5.5677643628300215, 5.744562646538029, 5.916079783099616, 6.082762530298219, 6.244997998398398, 6.4031242374328485, 6.557438524302, 6.708203932499369, 6.855654600401044, 7.0]\n"
     ]
    }
   ],
   "source": [
    "number_vals = [(i**(1/2)) for i in range(1, 50+1) if i%2 != 0]\n",
    "print (number_vals)"
   ]
  },
  {
   "cell_type": "code",
   "execution_count": 6,
   "id": "982b9a66-62f9-48ed-9d31-45452158bb22",
   "metadata": {},
   "outputs": [
    {
     "name": "stdout",
     "output_type": "stream",
     "text": [
      "4.7172\n"
     ]
    }
   ],
   "source": [
    "sum_val = 0\n",
    "for i in number_vals:\n",
    "    sum_val = sum_val + i\n",
    "total_sum = round((sum_val), 2)\n",
    "mean = total_sum/len(number_vals)\n",
    "print(mean)"
   ]
  },
  {
   "cell_type": "code",
   "execution_count": 7,
   "id": "8913eb25-faa4-4100-80d6-cefaa80ac844",
   "metadata": {},
   "outputs": [
    {
     "name": "stdout",
     "output_type": "stream",
     "text": [
      "4\n"
     ]
    }
   ],
   "source": [
    "vals = [10, 12.5, 8, 9.5, 6, 11.5, 7, 4]\n",
    "pos = vals[0]\n",
    "for i in vals:\n",
    "    if i < pos:\n",
    "        pos = i\n",
    "print(pos)"
   ]
  },
  {
   "cell_type": "code",
   "execution_count": 9,
   "id": "df792de0-e5f1-4dd9-adca-2b836680e27a",
   "metadata": {},
   "outputs": [
    {
     "name": "stdout",
     "output_type": "stream",
     "text": [
      "[5, 6, 8, 9]\n"
     ]
    }
   ],
   "source": [
    "x = [10, 15, 20, 30]\n",
    "u = [15, 21, 28, 39]\n",
    "diff = []\n",
    "if len(x) == len(u):\n",
    "    for i in range(0, len(u)):\n",
    "        diff_val = u[i] - x[i]\n",
    "        diff.append(diff_val)\n",
    "    print(diff)\n",
    "else:\n",
    "    print(False)"
   ]
  },
  {
   "cell_type": "code",
   "execution_count": 1,
   "id": "f7dca0db-d3ba-4b08-87e9-a37913d67237",
   "metadata": {
    "jupyter": {
     "outputs_hidden": true
    },
    "tags": []
   },
   "outputs": [
    {
     "name": "stdout",
     "output_type": "stream",
     "text": [
      "75\n",
      "18.75\n",
      "[76.5625, 14.0625, 1.5625, 126.5625]\n",
      "218.75\n",
      "7.39509972887452\n"
     ]
    }
   ],
   "source": [
    "x = [10, 15, 20, 30]\n",
    "n = len(x)\n",
    "\n",
    "sum_val = sum(x)\n",
    "print (sum_val)\n",
    "mean_val = sum_val/n\n",
    "print (mean_val)\n",
    "\n",
    "mean3 = []\n",
    "for i in x:\n",
    "    meani = i-mean_val\n",
    "    mean2 = (meani)**2\n",
    "    mean3.append(mean2)\n",
    "print(mean3)\n",
    "\n",
    "sum2 = sum(mean3)\n",
    "print(sum2)\n",
    "\n",
    "std_dev = (sum2/n)**(1/2)\n",
    "print(std_dev)"
   ]
  },
  {
   "cell_type": "code",
   "execution_count": 2,
   "id": "23b66733-ec7c-44fb-99f9-62a2119b633d",
   "metadata": {
    "tags": []
   },
   "outputs": [
    {
     "name": "stdout",
     "output_type": "stream",
     "text": [
      "['221.124.127.50']\n"
     ]
    }
   ],
   "source": [
    "ip_addr = [\"192.168.120.15\", \"221.124.127.50\", \"101.124.56.12\"]\n",
    "lst = []\n",
    "for i in ip_addr:\n",
    "    a = int(i.split(\".\")[-1])\n",
    "    if a >= 30 and a <= 50:\n",
    "        lst.append(i)\n",
    "print(lst)"
   ]
  },
  {
   "cell_type": "code",
   "execution_count": 3,
   "id": "d66607e7-c4ed-4e72-bb5d-13802571c547",
   "metadata": {},
   "outputs": [
    {
     "name": "stdout",
     "output_type": "stream",
     "text": [
      "[[1, 2, 3], [4, 5, 6], [7, 8, 9]]\n"
     ]
    }
   ],
   "source": [
    "m =[[1, 2, 3],\n",
    "    [4, 5, 6],\n",
    "    [7, 8, 9]]\n",
    "print(m)"
   ]
  },
  {
   "cell_type": "code",
   "execution_count": 4,
   "id": "9e5b2622",
   "metadata": {},
   "outputs": [
    {
     "name": "stdout",
     "output_type": "stream",
     "text": [
      "4\n"
     ]
    }
   ],
   "source": [
    "aa = []\n",
    "for i in m:\n",
    "    aa.append(i[0])\n",
    "print(aa[1])"
   ]
  },
  {
   "cell_type": "code",
   "execution_count": 5,
   "id": "40d0b3b4",
   "metadata": {},
   "outputs": [
    {
     "name": "stdout",
     "output_type": "stream",
     "text": [
      "1\n",
      "5\n",
      "9\n"
     ]
    }
   ],
   "source": [
    "for i in range(0, len(m)):\n",
    "    print(m[i][i])"
   ]
  },
  {
   "cell_type": "code",
   "execution_count": 6,
   "id": "48d432ba",
   "metadata": {},
   "outputs": [
    {
     "name": "stdout",
     "output_type": "stream",
     "text": [
      "jack\n",
      "susan\n",
      "jasmine\n"
     ]
    }
   ],
   "source": [
    "a = [\"ben\", \"bode\", \"phil\", \"tope\"]\n",
    "d = [\"phil\", \"jack\", \"susan\", \"bode\", \"jasmine\"]\n",
    "for i in d:\n",
    "    if i not in a:\n",
    "        print(i)"
   ]
  },
  {
   "cell_type": "code",
   "execution_count": 7,
   "id": "850d06cc",
   "metadata": {},
   "outputs": [
    {
     "name": "stdout",
     "output_type": "stream",
     "text": [
      "ben\n",
      "tope\n"
     ]
    }
   ],
   "source": [
    "a = [\"ben\", \"bode\", \"phil\", \"tope\"]\n",
    "d = [\"phil\", \"jack\", \"susan\", \"bode\", \"jasmine\"]\n",
    "for i in a:\n",
    "    if i not in d:\n",
    "        print(i)"
   ]
  },
  {
   "cell_type": "code",
   "execution_count": null,
   "id": "8446760a",
   "metadata": {},
   "outputs": [],
   "source": []
  }
 ],
 "metadata": {
  "kernelspec": {
   "display_name": "Python 3 (ipykernel)",
   "language": "python",
   "name": "python3"
  },
  "language_info": {
   "codemirror_mode": {
    "name": "ipython",
    "version": 3
   },
   "file_extension": ".py",
   "mimetype": "text/x-python",
   "name": "python",
   "nbconvert_exporter": "python",
   "pygments_lexer": "ipython3",
   "version": "3.9.7"
  }
 },
 "nbformat": 4,
 "nbformat_minor": 5
}
