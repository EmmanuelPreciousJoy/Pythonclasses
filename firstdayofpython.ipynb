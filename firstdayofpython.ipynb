{
 "cells": [
  {
   "cell_type": "code",
   "execution_count": 1,
   "id": "26c72759",
   "metadata": {},
   "outputs": [
    {
     "name": "stdout",
     "output_type": "stream",
     "text": [
      "hello guys\n"
     ]
    }
   ],
   "source": [
    "print(\"hello guys\")"
   ]
  },
  {
   "cell_type": "code",
   "execution_count": 2,
   "id": "b82da798",
   "metadata": {},
   "outputs": [
    {
     "name": "stdout",
     "output_type": "stream",
     "text": [
      "30\n"
     ]
    }
   ],
   "source": [
    "x = 10\n",
    "y = 20\n",
    "print(x+y)"
   ]
  },
  {
   "cell_type": "code",
   "execution_count": 3,
   "id": "d9f512b0",
   "metadata": {},
   "outputs": [
    {
     "name": "stdout",
     "output_type": "stream",
     "text": [
      "x plus y is = 30\n"
     ]
    }
   ],
   "source": [
    "print(f\"x plus y is = {x+y}\")"
   ]
  },
  {
   "cell_type": "code",
   "execution_count": 5,
   "id": "5cfdf6f7",
   "metadata": {},
   "outputs": [
    {
     "name": "stdout",
     "output_type": "stream",
     "text": [
      "\n",
      "Hello Chella,\n",
      "Thank you for helping the class with your expertise\n",
      "Regards.\n"
     ]
    }
   ],
   "source": [
    "print(f\"\"\"\n",
    "Hello Chella,\n",
    "Thank you for helping the class with your expertise\n",
    "Regards.\"\"\")"
   ]
  },
  {
   "cell_type": "code",
   "execution_count": 6,
   "id": "be26ae71",
   "metadata": {},
   "outputs": [
    {
     "name": "stdout",
     "output_type": "stream",
     "text": [
      "enter your name: Dee\n",
      "enter year of birth: 1998\n",
      "\n",
      "Hello Dee,\n",
      "the computer calculated your age to be 24.0.\n",
      "Hope your input was enterred correctly?\n",
      "\n"
     ]
    }
   ],
   "source": [
    "name = input(\"enter your name: \")\n",
    "y = float(input(\"enter year of birth: \"))\n",
    "age = 2022 - y\n",
    "print (f\"\"\"\n",
    "Hello {name},\n",
    "the computer calculated your age to be {age}.\n",
    "Hope your input was enterred correctly?\n",
    "\"\"\")"
   ]
  },
  {
   "cell_type": "code",
   "execution_count": 7,
   "id": "e79b91e5",
   "metadata": {},
   "outputs": [
    {
     "name": "stdout",
     "output_type": "stream",
     "text": [
      "enter temperature value: 36\n",
      "enter unit (f/c): c\n",
      "the temperature value from cel to fahr is 122.4fahrenheit\n"
     ]
    }
   ],
   "source": [
    "temp_val = float(input(\"enter temperature value: \"))\n",
    "unit = input(\"enter unit (f/c): \").lower()\n",
    "\n",
    "if unit == \"f\":\n",
    "    temp_fahr = round((5/9) * (temp_val - 32), 3)\n",
    "    print(f\"the temperature value from fahr to cel is {temp_fahr}celcius\")\n",
    "elif unit == \"c\":\n",
    "    temp_cel = round((9/5) * (temp_val + 32), 3)\n",
    "    print (f\"the temperature value from cel to fahr is {temp_cel}fahrenheit\")\n",
    "else:\n",
    "    print (\"input not understood\")"
   ]
  },
  {
   "cell_type": "code",
   "execution_count": 8,
   "id": "b30c4836",
   "metadata": {},
   "outputs": [
    {
     "name": "stdout",
     "output_type": "stream",
     "text": [
      "the default units are lbs and ft\n",
      "enter weight value: 45\n",
      "enter weight unit: kg\n",
      "enter height value: 18\n",
      "enter height unit: m\n",
      "0.6783727187941117kg/m2\n"
     ]
    }
   ],
   "source": [
    "print (\"the default units are lbs and ft\")\n",
    "weight = float(input('enter weight value: '))\n",
    "unit_weight = input('enter weight unit: ')\n",
    "height = float(input('enter height value: '))\n",
    "height_unit = input('enter height unit: ')\n",
    "\n",
    "if unit == 'lbs' and height_unit == 'ft':\n",
    "    bmi = weight/(height**2)\n",
    "    if bmi >= 1.5 and bmi <= 2.5:\n",
    "        print(f\"bmi value of{bmi} too low\")\n",
    "    elif bmi >= 2.6 and bmi <= 5.5:\n",
    "        print(f\"bmi value of {bmi} is okay\")\n",
    "    else:\n",
    "        print(f\"bmi value {bmi} is challenging\")\n",
    "        \n",
    "elif unit_weight == \"kg\" and height_unit == \"m\":\n",
    "    bmi = (weight/2.204) / ((height/3.281)**2)\n",
    "    print(f\"{bmi}kg/m2\")\n",
    "    \n",
    "else:\n",
    "    print(\"Conversion not available or Input incorrect\")\n",
    "        "
   ]
  }
 ],
 "metadata": {
  "kernelspec": {
   "display_name": "Python 3 (ipykernel)",
   "language": "python",
   "name": "python3"
  },
  "language_info": {
   "codemirror_mode": {
    "name": "ipython",
    "version": 3
   },
   "file_extension": ".py",
   "mimetype": "text/x-python",
   "name": "python",
   "nbconvert_exporter": "python",
   "pygments_lexer": "ipython3",
   "version": "3.9.7"
  }
 },
 "nbformat": 4,
 "nbformat_minor": 5
}
