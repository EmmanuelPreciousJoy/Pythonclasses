{
 "cells": [
  {
   "cell_type": "code",
   "execution_count": 1,
   "id": "a91623e5",
   "metadata": {},
   "outputs": [
    {
     "name": "stdout",
     "output_type": "stream",
     "text": [
      "ami\n"
     ]
    }
   ],
   "source": [
    "x = \"amie\"\n",
    "print (x[0: -1])"
   ]
  },
  {
   "cell_type": "code",
   "execution_count": 2,
   "id": "17f64311",
   "metadata": {},
   "outputs": [
    {
     "data": {
      "text/plain": [
       "2"
      ]
     },
     "execution_count": 2,
     "metadata": {},
     "output_type": "execute_result"
    }
   ],
   "source": [
    "x.index('i')"
   ]
  },
  {
   "cell_type": "code",
   "execution_count": 3,
   "id": "d72d86de",
   "metadata": {},
   "outputs": [
    {
     "name": "stdout",
     "output_type": "stream",
     "text": [
      "['susan', 'ayo', 'bola']\n"
     ]
    }
   ],
   "source": [
    "p =[\"amie\", \"janet\", \"susan\", \"ayo\", \"bola\"]\n",
    "index_val = p.index(\"janet\")\n",
    "y_val = p[index_val + 1:]\n",
    "print (y_val)"
   ]
  },
  {
   "cell_type": "code",
   "execution_count": 4,
   "id": "02fe021e",
   "metadata": {},
   "outputs": [
    {
     "name": "stdout",
     "output_type": "stream",
     "text": [
      "['amie']\n"
     ]
    }
   ],
   "source": [
    "z_val = p[:index_val]\n",
    "print(z_val)"
   ]
  },
  {
   "cell_type": "code",
   "execution_count": 5,
   "id": "e85186eb",
   "metadata": {},
   "outputs": [
    {
     "name": "stdout",
     "output_type": "stream",
     "text": [
      "angel and funmi\n"
     ]
    }
   ],
   "source": [
    "d = [\"juan\", \"kate\", \"mitchel\", \"funmi\", \"angel\", \"ada\", \"lola\", \"joy\"]\n",
    "count_avg = int(len(d)/2)\n",
    "new_count_avg = count_avg - 1\n",
    "\n",
    "if len(d)%2 != 0:\n",
    "    print(d[count_avg])\n",
    "    \n",
    "else:\n",
    "    med_val = d[count_avg]\n",
    "    val_med = d[new_count_avg]\n",
    "    print(f\"{med_val} and {val_med}\")"
   ]
  },
  {
   "cell_type": "code",
   "execution_count": 6,
   "id": "af7092e1",
   "metadata": {},
   "outputs": [
    {
     "name": "stdout",
     "output_type": "stream",
     "text": [
      "[3, 6, 'jane', 'bella', 'tola', 'madu']\n"
     ]
    }
   ],
   "source": [
    "arr1 = [3, 6, \"jane\", \"bella\"]\n",
    "arr2 = [\"tola\", \"madu\"]\n",
    "for i in arr2:\n",
    "    arr1.append(i)\n",
    "print(arr1)"
   ]
  },
  {
   "cell_type": "code",
   "execution_count": 7,
   "id": "ce3f6c9d",
   "metadata": {},
   "outputs": [
    {
     "name": "stdout",
     "output_type": "stream",
     "text": [
      "[3, 6, 'jane', 'bella', ['tola', 'madu']]\n"
     ]
    }
   ],
   "source": [
    "arr1 = [3, 6, \"jane\", \"bella\"]\n",
    "arr2 = [\"tola\", \"madu\"]\n",
    "arr1.append(arr2)\n",
    "print(arr1)"
   ]
  },
  {
   "cell_type": "code",
   "execution_count": 8,
   "id": "7ec910e8",
   "metadata": {},
   "outputs": [
    {
     "name": "stdout",
     "output_type": "stream",
     "text": [
      "[3, 6, 'jane', 'bella', ['tola', 'madu'], 'tola', 'madu']\n"
     ]
    }
   ],
   "source": [
    "print(arr1 + arr2)"
   ]
  },
  {
   "cell_type": "code",
   "execution_count": 9,
   "id": "41d69e06",
   "metadata": {},
   "outputs": [
    {
     "name": "stdout",
     "output_type": "stream",
     "text": [
      "['rihanna']\n"
     ]
    }
   ],
   "source": [
    "r_names = []\n",
    "array1 = [\"teni\", \"tiwa\", \"tems\", \"rihanna\"]\n",
    "for i in array1:\n",
    "    if i[0] == \"r\":\n",
    "        r_names.append(i)\n",
    "        print(r_names)"
   ]
  },
  {
   "cell_type": "code",
   "execution_count": 10,
   "id": "804739df",
   "metadata": {},
   "outputs": [
    {
     "name": "stdout",
     "output_type": "stream",
     "text": [
      "Jacob\n",
      "Obi\n",
      "Moses\n",
      "Victor\n"
     ]
    }
   ],
   "source": [
    "array_names = [\"jacob\", \"obi\", \"moses\", \"victor\"]\n",
    "for i in array_names:\n",
    "    capnames = i[0].upper() + i[1:]\n",
    "    print(capnames)"
   ]
  },
  {
   "cell_type": "code",
   "execution_count": 18,
   "id": "8c8d4a06",
   "metadata": {},
   "outputs": [
    {
     "name": "stdout",
     "output_type": "stream",
     "text": [
      "['Jacob', 'Obi', 'Moses', 'Victor']\n"
     ]
    }
   ],
   "source": [
    "newsurnames = []\n",
    "for i in array_names:\n",
    "    capnames = i[0].upper() + i[1:]\n",
    "    newsurnames.append(capnames)\n",
    "print(newsurnames)"
   ]
  },
  {
   "cell_type": "code",
   "execution_count": 19,
   "id": "734820d6",
   "metadata": {},
   "outputs": [
    {
     "name": "stdout",
     "output_type": "stream",
     "text": [
      "['Teni', 'Tiwa', 'Tems', 'Rihanna']\n"
     ]
    }
   ],
   "source": [
    "newnames = []\n",
    "for i in array1:\n",
    "    capsnames = i[0].upper() + i[1:]\n",
    "    newnames.append(capsnames)\n",
    "print(newnames)"
   ]
  },
  {
   "cell_type": "code",
   "execution_count": 20,
   "id": "3bc63e40",
   "metadata": {},
   "outputs": [
    {
     "name": "stdout",
     "output_type": "stream",
     "text": [
      "Jacob Teni\n",
      "Obi Tiwa\n",
      "Moses Tems\n",
      "Victor Rihanna\n"
     ]
    }
   ],
   "source": [
    "for i in range(0, len(array1)):\n",
    "    fullnames = f\"{newsurnames[i]} {newnames[i]}\"\n",
    "    print(fullnames)"
   ]
  },
  {
   "cell_type": "code",
   "execution_count": 25,
   "id": "ac8e7afe",
   "metadata": {},
   "outputs": [
    {
     "name": "stdout",
     "output_type": "stream",
     "text": [
      "no, they are not all strings!\n"
     ]
    }
   ],
   "source": [
    "new_list = []\n",
    "d = [\"juan\", 10, \"mitchel\", \"funmi\", \"angel\", \"ada\",\"lola\", \"joy\"]\n",
    "for i in d:\n",
    "    k = type(i)\n",
    "    if k == str:\n",
    "        new_list.append(i)\n",
    "\n",
    "if len(new_list) == len(d):\n",
    "    print(\"yes, they are all strings!\")\n",
    "else:\n",
    "    print(\"no, they are not all strings!\")\n"
   ]
  },
  {
   "cell_type": "code",
   "execution_count": 26,
   "id": "55f003b0",
   "metadata": {},
   "outputs": [
    {
     "name": "stdout",
     "output_type": "stream",
     "text": [
      "hannah\n",
      "shalom\n",
      "design\n"
     ]
    }
   ],
   "source": [
    "ele = [\"hannah\", \"shalom\", 10, 15, \"design\"]\n",
    "for i in ele:\n",
    "    test = isinstance(i, str)\n",
    "    if test ==True:\n",
    "        print(i)"
   ]
  },
  {
   "cell_type": "code",
   "execution_count": 22,
   "id": "504784c3",
   "metadata": {},
   "outputs": [
    {
     "data": {
      "text/plain": [
       "str"
      ]
     },
     "execution_count": 22,
     "metadata": {},
     "output_type": "execute_result"
    }
   ],
   "source": [
    "type(\"hannah\")"
   ]
  },
  {
   "cell_type": "code",
   "execution_count": 23,
   "id": "7d7e6ad5",
   "metadata": {},
   "outputs": [
    {
     "name": "stdout",
     "output_type": "stream",
     "text": [
      "10\n",
      "15\n"
     ]
    }
   ],
   "source": [
    "for i in ele:\n",
    "    p = type(i)\n",
    "    if p == int:\n",
    "        print(i)"
   ]
  },
  {
   "cell_type": "code",
   "execution_count": 27,
   "id": "4dc76de5",
   "metadata": {},
   "outputs": [
    {
     "name": "stdout",
     "output_type": "stream",
     "text": [
      "yes, they are all strings!\n"
     ]
    }
   ],
   "source": [
    "new_list = []\n",
    "d = [\"juan\", \"susan\", \"mitchel\", \"funmi\", \"angel\", \"ada\",\"lola\", \"joy\"]\n",
    "for i in d:\n",
    "    k = type(i)\n",
    "    if k == str:\n",
    "        new_list.append(i)\n",
    "\n",
    "if len(new_list) == len(d):\n",
    "    print(\"yes, they are all strings!\")\n",
    "else:\n",
    "    print(\"no, they are not all strings!\")\n"
   ]
  },
  {
   "cell_type": "code",
   "execution_count": null,
   "id": "57f4ecb6",
   "metadata": {},
   "outputs": [],
   "source": []
  }
 ],
 "metadata": {
  "kernelspec": {
   "display_name": "Python 3 (ipykernel)",
   "language": "python",
   "name": "python3"
  },
  "language_info": {
   "codemirror_mode": {
    "name": "ipython",
    "version": 3
   },
   "file_extension": ".py",
   "mimetype": "text/x-python",
   "name": "python",
   "nbconvert_exporter": "python",
   "pygments_lexer": "ipython3",
   "version": "3.9.7"
  }
 },
 "nbformat": 4,
 "nbformat_minor": 5
}
